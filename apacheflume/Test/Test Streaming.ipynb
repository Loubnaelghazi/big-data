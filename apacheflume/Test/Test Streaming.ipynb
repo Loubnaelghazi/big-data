{
 "cells": [
  {
   "cell_type": "code",
   "execution_count": 1,
   "id": "1f65e6fd",
   "metadata": {},
   "outputs": [],
   "source": [
    "from pyspark.sql import SparkSession\n",
    "from pyspark.sql.functions import split, col\n",
    "from pymongo import MongoClient\n",
    "import time\n",
    "import subprocess"
   ]
  },
  {
   "cell_type": "code",
   "execution_count": 2,
   "id": "a83dc28a",
   "metadata": {},
   "outputs": [],
   "source": [
    "import findspark\n",
    "findspark.init()\n",
    "from pyspark import SparkConf, SparkContext\n",
    "\n",
    "conf = SparkConf().setAppName('myapp')\n",
    "conf.set('spark.python.worker.timeout', '600')\n",
    "sc = SparkContext(conf=conf)"
   ]
  },
  {
   "cell_type": "code",
   "execution_count": 3,
   "id": "45b248be",
   "metadata": {},
   "outputs": [],
   "source": [
    "from pyspark.ml import PipelineModel\n",
    "from pyspark.ml.classification import NaiveBayes\n",
    "\n",
    "model_path = 'C:/Users/hanane/Desktop/BigDataProje/apacheflume/ModelSave/'\n",
    "pipeline_model = PipelineModel.load(model_path)"
   ]
  },
  {
   "cell_type": "code",
   "execution_count": 4,
   "id": "82b5b697",
   "metadata": {},
   "outputs": [],
   "source": [
    "from pyspark.sql import SparkSession\n",
    "spark = SparkSession(sc)"
   ]
  },
  {
   "cell_type": "code",
   "execution_count": 5,
   "id": "1a5d1860",
   "metadata": {},
   "outputs": [
    {
     "name": "stdout",
     "output_type": "stream",
     "text": [
      "+--------------------+\n",
      "|               value|\n",
      "+--------------------+\n",
      "|Only on @WatchMix...|\n",
      "|11028,TomClancysG...|\n",
      "|                    |\n",
      "|store.playstation...|\n",
      "|2695,Borderlands,...|\n",
      "|10719,RedDeadRede...|\n",
      "|2703,Borderlands,...|\n",
      "|4334,CS-GO,Neutra...|\n",
      "|10865,TomClancysG...|\n",
      "|12443,WorldOfCraf...|\n",
      "|10007,PlayerUnkno...|\n",
      "|6854,johnson&john...|\n",
      "|4811,GrandTheftAu...|\n",
      "|7806,MaddenNFL,Po...|\n",
      "|11674,Verizon,Irr...|\n",
      "|12714,WorldOfCraf...|\n",
      "|5048,GrandTheftAu...|\n",
      "|5025,GrandTheftAu...|\n",
      "|8728,NBA2K,Negati...|\n",
      "|11824,Verizon,Neu...|\n",
      "+--------------------+\n",
      "only showing top 20 rows\n",
      "\n",
      "+-----+---------------------------------+-----------------------------------------------------------------------------------------------------------------------------------------------------------------------------------------------------------------------------------------------------------------------------------------------+----------+\n",
      "|id   |topic                            |content                                                                                                                                                                                                                                                                                        |prediction|\n",
      "+-----+---------------------------------+-----------------------------------------------------------------------------------------------------------------------------------------------------------------------------------------------------------------------------------------------------------------------------------------------+----------+\n",
      "|11028|TomClancysGhostRecon             |\"Trippy #GhostReconBreakpoint                                                                                                                                                                                                                                                                  |0.0       |\n",
      "|2695 |Borderlands                      |I wanna play Shooty McLootyguns with more people (Borderlands 3). Recently solo'd the Maliwan Takedown mission and Torgue's Slaughterhouse 3000 on Mayhem 3. Was some of the most intense and fun FPS gameplay I've had in years.                                                              |1.0       |\n",
      "|10719|RedDeadRedemption(RDR)           |\"Red Dead Redemption 2 broke me                                                                                                                                                                                                                                                                |1.0       |\n",
      "|2703 |Borderlands                      |My sona as a vault hunter. Borderlands will always be my all time favorite game series. pic.twitter.com/tMN63snnJE                                                                                                                                                                             |1.0       |\n",
      "|4334 |CS-GO                            |Rip whole inventory on gamdom crash and stay skinless forever :)                                                                                                                                                                                                                               |0.0       |\n",
      "|10865|TomClancysGhostRecon             |@GhostRecon Glad you're changing up the game to make it how it should have been on release. Spotted a Typo on Uplay though. pic.twitter.com/qw6DwVBeGZ                                                                                                                                         |2.0       |\n",
      "|12443|WorldOfCraft                     |I tried to do some of purple invasion stuff tonight but it just turned me into the Sha of Anger. 🤬 So I did mog dungeon runs instead which included a sort of family reunion. 🐉 #bloodelf #hunter #Warcraft #worldofwarcraft #gamer #gaming #gamergirl #screenshot pic.twitter.com/yFoG2NkjTD|2.0       |\n",
      "|10007|PlayerUnknownsBattlegrounds(PUBG)|@PUBG PLEASE SORT OUT THE GAME CRASHES!                                                                                                                                                                                                                                                        |0.0       |\n",
      "|6854 |johnson&johnson                  |\"Coronavirus Vaccine Race Gets Desperate: Johnson & Johnson Posts Losses                                                                                                                                                                                                                       |2.0       |\n",
      "|4811 |GrandTheftAuto(GTA)              |Grand Theft Auto 5 (EU) for a good Price g2a.com/r/quicksellgta                                                                                                                                                                                                                                |1.0       |\n",
      "|7806 |MaddenNFL                        |Preordered @EAMaddenNFL for @PlayStation can’t wait!                                                                                                                                                                                                                                           |1.0       |\n",
      "|11674|Verizon                          |That’s kap AF this mf blank out everywhere                                                                                                                                                                                                                                                     |0.0       |\n",
      "|12714|WorldOfCraft                     |\"Playing world of Warcraft! So much fucking fun. I can’t believe I wasted so much time playing games like cod                                                                                                                                                                                  |1.0       |\n",
      "|5048 |GrandTheftAuto(GTA)              |It's about fricking time!                                                                                                                                                                                                                                                                      |1.0       |\n",
      "|5025 |GrandTheftAuto(GTA)              |The khanjali is the best tank in GTA online pic.twitter.com/pnixQFSBeV                                                                                                                                                                                                                         |1.0       |\n",
      "|8728 |NBA2K                            |I’m done bro all my stuff got corrupt and I’m downloading game updates now @2KSupport @NBA2K @Ronnie2K                                                                                                                                                                                         |0.0       |\n",
      "|11824|Verizon                          |\"Man I just left the Verizon store to see if I can get my hands on the pre order of the RAZR V4. The employee let me hold the phone and flip it up and now I’m never washing my hands again                                                                                                    |2.0       |\n",
      "|9268 |Overwatch                        |//The Corruption and Knocking up of Overwatch Babes is a serious Mood atm... pic.twitter.com/QNy4kmgBLV                                                                                                                                                                                        |2.0       |\n",
      "|2216 |CallOfDuty                       |\"@PlayCODMobile @M2Games2 i love the call of duty                                                                                                                                                                                                                                              |2.0       |\n",
      "|316  |Amazon                           |Amazon stops accepting new online grocery customers as it cuts hours at Whole Foods stores dailymail.co.uk/news/article-8… https://t.co/jn7OMaLq3n                                                                                                                                             |2.0       |\n",
      "+-----+---------------------------------+-----------------------------------------------------------------------------------------------------------------------------------------------------------------------------------------------------------------------------------------------------------------------------------------------+----------+\n",
      "only showing top 20 rows\n",
      "\n"
     ]
    }
   ],
   "source": [
    "from pyspark.sql.functions import split\n",
    "from pyspark.sql.functions import col\n",
    "\n",
    "\n",
    "data = spark.read.text(\"hdfs://localhost:9000/user/Hadoop/twit_test/*\")\n",
    "\n",
    "filtered_data = data.filter(~data[\"value\"].startswith('   ') )\n",
    "filtered_data.show()\n",
    "\n",
    "\n",
    "split_col = split(filtered_data['value'], ',')\n",
    "\n",
    "filtered_data = filtered_data.withColumn('id', split_col.getItem(0)) \\\n",
    "                             .withColumn('topic', split_col.getItem(1)) \\\n",
    "                             .withColumn('sentiment', split_col.getItem(2)) \\\n",
    "                             .withColumn('content', split_col.getItem(3))\n",
    "\n",
    "filtered_data = filtered_data.drop('value')\n",
    "filtered_data = filtered_data.na.drop()\n",
    "predictions = pipeline_model.transform(filtered_data)\n",
    "predictions.select(\"id\", \"topic\", \"content\", \"prediction\").show(truncate=False)"
   ]
  },
  {
   "cell_type": "code",
   "execution_count": null,
   "id": "c83a77d4",
   "metadata": {},
   "outputs": [
    {
     "name": "stdout",
     "output_type": "stream",
     "text": [
      "Inserted document: 11028\n",
      "Inserted document: 2695\n",
      "Inserted document: 10719\n",
      "Inserted document: 2703\n",
      "Inserted document: 4334\n",
      "Inserted document: 10865\n",
      "Inserted document: 12443\n",
      "Inserted document: 10007\n",
      "Inserted document: 6854\n",
      "Inserted document: 4811\n",
      "Inserted document: 7806\n",
      "Inserted document: 11674\n",
      "Inserted document: 12714\n"
     ]
    }
   ],
   "source": [
    "from pymongo import MongoClient\n",
    "import time\n",
    "\n",
    "documents = predictions.select(\"id\", \"topic\", \"content\", \"prediction\").collect()\n",
    "documents = [row.asDict() for row in documents]\n",
    "\n",
    "client = MongoClient('mongodb://localhost:27017')\n",
    "db = client.BigData\n",
    "collection = db.new\n",
    "\n",
    "for document in documents:\n",
    "    collection.insert_one(document)\n",
    "    print(f\"Inserted document: {document['id']}\")\n",
    "    time.sleep(6)\n"
   ]
  },
  {
   "cell_type": "code",
   "execution_count": null,
   "id": "51170712",
   "metadata": {},
   "outputs": [],
   "source": []
  },
  {
   "cell_type": "code",
   "execution_count": null,
   "id": "696cc1e4",
   "metadata": {},
   "outputs": [],
   "source": []
  }
 ],
 "metadata": {
  "kernelspec": {
   "display_name": "Python 3 (ipykernel)",
   "language": "python",
   "name": "python3"
  },
  "language_info": {
   "codemirror_mode": {
    "name": "ipython",
    "version": 3
   },
   "file_extension": ".py",
   "mimetype": "text/x-python",
   "name": "python",
   "nbconvert_exporter": "python",
   "pygments_lexer": "ipython3",
   "version": "3.11.5"
  }
 },
 "nbformat": 4,
 "nbformat_minor": 5
}
